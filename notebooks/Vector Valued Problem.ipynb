{
 "cells": [
  {
   "cell_type": "code",
   "execution_count": null,
   "metadata": {},
   "outputs": [],
   "source": [
    "using Revise\n",
    "using ARFF\n",
    "using Random\n",
    "using Statistics\n",
    "using Distributions\n",
    "using Printf\n",
    "using LinearAlgebra\n",
    "using Plots"
   ]
  },
  {
   "cell_type": "code",
   "execution_count": null,
   "metadata": {},
   "outputs": [],
   "source": [
    "default(lw=2, markersize=6,\n",
    "    xtickfont=font(10), ytickfont=font(10),\n",
    "    guidefont=font(12), legendfont=font(10), titlefont=font(12))"
   ]
  },
  {
   "cell_type": "code",
   "execution_count": null,
   "metadata": {},
   "outputs": [],
   "source": [
    "f1(x) = x[1]*x[2];\n",
    "f2(x) = x[1]^2 - x[2]^2;"
   ]
  },
  {
   "cell_type": "code",
   "execution_count": null,
   "metadata": {},
   "outputs": [],
   "source": [
    "xx = LinRange(-2, 2, 100);\n",
    "yy = LinRange(-2, 2, 100);\n",
    "\n",
    "z1 = [f1([x_, y_]) for y_ in yy, x_ in xx];\n",
    "z2 = [f2([x_, y_]) for y_ in yy, x_ in xx];\n",
    "\n",
    "p1 = contourf(xx, yy, z1)\n",
    "p2 = contourf(xx, yy, z2)\n",
    "plot(p1, p2, layout=(1, 2))"
   ]
  },
  {
   "cell_type": "code",
   "execution_count": null,
   "metadata": {},
   "outputs": [],
   "source": [
    "N = 10^3;\n",
    "\n",
    "Random.seed!(100)\n",
    "x_data = [randn(2) for _ in 1:N];\n",
    "y_data = [[f1(x_), f2(x_)] for x_ in x_data];\n",
    "data = DataSet(x_data, y_data)"
   ]
  },
  {
   "cell_type": "code",
   "execution_count": null,
   "metadata": {},
   "outputs": [],
   "source": [
    "@show K = 2^6;\n",
    "Random.seed!(200)\n",
    "F0 = FourierModel([1.0 * randn(ComplexF64,K) for _ in 1:d], [1.0 * randn(2) for _ in 1:K])"
   ]
  },
  {
   "cell_type": "code",
   "execution_count": null,
   "metadata": {},
   "outputs": [],
   "source": [
    "d = 2;\n",
    "δ = 2.4^2 / (15 * (d)); # rwm step size\n",
    "Σ0 = diagm(ones(d));\n",
    "\n",
    "n_epochs = 5 * 10^2; # total number of iterations\n",
    "n_ω_steps = 2; # number of steps between full β updates\n",
    "n_burn = Int(0.1 * n_epochs);\n",
    "γ = optimal_γ(d);\n",
    "# γ = 200;\n",
    "@show γ;\n",
    "ω_max = Inf;\n",
    "adapt_covariance = true;\n",
    "\n",
    "λ = 1e-6; # regularization;\n",
    "function reg_β_solver!(β, S, y, λ, ω, r)\n",
    "    N = length(y)\n",
    "    β .= (S' * S + λ * N * diagm((1 .+ norm.(ω) .^ 2) .^ (r))) \\ (S' * y)\n",
    "\n",
    "end\n",
    "\n",
    "r = 1;\n",
    "β_solver! = (β, S, y, ω) -> reg_β_solver!(β, S, y, λ, ω, r);\n",
    "\n",
    "opts = ARFFOptions(n_epochs, n_ω_steps, δ, n_burn, γ, ω_max,\n",
    "    adapt_covariance, β_solver!, ARFF.mse_loss);"
   ]
  },
  {
   "cell_type": "code",
   "execution_count": null,
   "metadata": {},
   "outputs": [],
   "source": [
    "Random.seed!(1000);\n",
    "F = deepcopy(F0);\n",
    "Σ_mean, acceptance_rate, loss = train_rwm!(F, data, Σ0, opts, show_progress=true);"
   ]
  },
  {
   "cell_type": "code",
   "execution_count": null,
   "metadata": {},
   "outputs": [],
   "source": []
  }
 ],
 "metadata": {
  "kernelspec": {
   "display_name": "Julia 1.10.4",
   "language": "julia",
   "name": "julia-1.10"
  },
  "language_info": {
   "file_extension": ".jl",
   "mimetype": "application/julia",
   "name": "julia",
   "version": "1.10.4"
  }
 },
 "nbformat": 4,
 "nbformat_minor": 2
}
