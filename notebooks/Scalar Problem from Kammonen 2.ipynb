{
 "cells": [
  {
   "cell_type": "markdown",
   "id": "9fd9ea25-1d2d-4da4-8568-614a9f9df880",
   "metadata": {},
   "source": [
    "# Scalar Example with Sigmoids\n",
    "Verify the ability to learn the function\n",
    "$$\n",
    "f(x) = e^{-x^2/2}\n",
    "$$\n",
    "using Adaptive Random Fourier Features (ARFF) with sigmoid activation functions."
   ]
  },
  {
   "cell_type": "code",
   "execution_count": null,
   "id": "6c338567-ca1e-4b28-88dd-f318929c605f",
   "metadata": {},
   "outputs": [],
   "source": [
    "using Plots\n",
    "using Random\n",
    "using Statistics\n",
    "using Distributions\n",
    "using Printf\n",
    "using LinearAlgebra\n",
    "using ARFF\n",
    "using SpecialFunctions\n",
    "using LaTeXStrings"
   ]
  },
  {
   "cell_type": "code",
   "execution_count": null,
   "id": "24be14ca-95d1-445f-98da-cdb5b7c4d16f",
   "metadata": {},
   "outputs": [],
   "source": [
    "default(lw=2,markersize = 6,\n",
    "    xtickfont=font(12), ytickfont=font(12), \n",
    "    guidefont=font(14), legendfont=font(12),titlefont=font(12))"
   ]
  },
  {
   "cell_type": "code",
   "execution_count": null,
   "id": "ae9b018b-e65d-4b79-9642-52c130c6d8cf",
   "metadata": {},
   "outputs": [],
   "source": [
    "f(x) = exp(-0.5 * (x^2));"
   ]
  },
  {
   "cell_type": "markdown",
   "id": "76a7ea9e-02c0-42d2-9919-9d3e01954080",
   "metadata": {},
   "source": [
    "__NOTE__ In this implementation, data points, $(x,y)$, $x$ is stored as a $d$-dimensional array, even if $d=1$.  This allows the code to more easily work across different $d$.  Also, we have padded `x` with a `1`, so that we can have nonzero activation functions."
   ]
  },
  {
   "cell_type": "code",
   "execution_count": null,
   "id": "7fbe2b6b-1e14-4176-a746-0bf2d6ea848b",
   "metadata": {},
   "outputs": [],
   "source": [
    "n_x = 100; # number of sample points\n",
    "d = 2;\n",
    "Random.seed!(100);\n",
    "x = [[4*rand(),1] for _ in 1:n_x]; # generate n_x sample points, storying them as an array of 1D points\n",
    "y = [f(x_[1]) for x_ in x];\n",
    "\n",
    "\n",
    "# store data in DataSet structure\n",
    "data = DataSet(x,y);\n",
    "\n",
    "scatter([x_[1] for x_ in x], y, label=\"Sample Points\")\n",
    "xx = LinRange(0, 4, 100);\n",
    "plot!(xx, f.(xx), label=L\"f(x)\")\n",
    "xlabel!(L\"x\")"
   ]
  },
  {
   "cell_type": "markdown",
   "id": "b5fe6f93-f617-43ee-aed0-7a270619a565",
   "metadata": {},
   "source": [
    "For a given number of Fourier modes,$K$, initialize a random model"
   ]
  },
  {
   "cell_type": "code",
   "execution_count": null,
   "id": "4cb47588-2e81-44b6-a7a6-c3a0692e04f8",
   "metadata": {},
   "outputs": [],
   "source": [
    "@show K = 2^4;\n",
    "Random.seed!(200)\n",
    "# lorentz(z) = 1/(1+z^2);\n",
    "hat(z) = exp(-abs(z));\n",
    "\n",
    "F0 = FourierModel([1. *randn() for _ in 1:K],  \n",
    "    [1.0 * randn(d) for _ in 1:K], \n",
    "    SigmoidActivation);"
   ]
  },
  {
   "cell_type": "markdown",
   "id": "4873debc-defc-4400-a62d-27ed9306e594",
   "metadata": {},
   "source": [
    "Set the training parameters, and store in an options data structure"
   ]
  },
  {
   "cell_type": "code",
   "execution_count": null,
   "id": "14d2211b-0d9d-46d8-98f3-6ab24ba6c9b3",
   "metadata": {},
   "outputs": [],
   "source": [
    "δ = 0.1; # rwm step size\n",
    "λ = 1e-6; # regularization\n",
    "n_epochs = 10^3; # total number of iterations\n",
    "n_ω_steps = 10; # number of steps between full β updates\n",
    "n_burn = n_epochs ÷ 10;\n",
    "γ = optimal_γ(d);\n",
    "ω_max =Inf;\n",
    "adapt_covariance = true;\n",
    "\n",
    "Σ0 = Float64[1 0; 0 1];\n",
    "\n",
    "function reg_β_solver!(β, S, y, λ)\n",
    "    N = length(y);\n",
    "    β .= (S' * S + λ * N *I) \\ (S' * y)\n",
    "\n",
    "end\n",
    "\n",
    "β_solver! = (β, S, y, ω)-> reg_β_solver!(β, S, y, λ);\n",
    "\n",
    "opts = ARFFOptions(n_epochs, n_ω_steps, δ, n_burn, γ, ω_max,adapt_covariance, \n",
    "    β_solver!, ARFF.mse_loss);"
   ]
  },
  {
   "cell_type": "markdown",
   "id": "937f9a73-c69c-4d5b-a98c-4a0eb1c883a0",
   "metadata": {},
   "source": [
    "Train the model"
   ]
  },
  {
   "cell_type": "code",
   "execution_count": null,
   "id": "7011caf8-aeea-48b6-be98-b366706b9dc3",
   "metadata": {},
   "outputs": [],
   "source": [
    "Random.seed!(1000);\n",
    "F = deepcopy(F0);\n",
    "Σ_mean, acceptance_rate, loss= train_rwm!(F, data, Σ0, opts, show_progress=true);"
   ]
  },
  {
   "cell_type": "code",
   "execution_count": null,
   "id": "c1032866-c17b-42ab-aad4-f6a17d3937ac",
   "metadata": {},
   "outputs": [],
   "source": [
    "@show Σ_mean;"
   ]
  },
  {
   "cell_type": "code",
   "execution_count": null,
   "id": "81fa20fd-f598-4e16-9177-116bf687580d",
   "metadata": {},
   "outputs": [],
   "source": [
    "plot(1:length(loss), loss, yscale=:log10, xscale=:log10, label=\"\")\n",
    "xlabel!(\"Epoch\")\n",
    "ylabel!(\"Loss\")"
   ]
  },
  {
   "cell_type": "code",
   "execution_count": null,
   "id": "394e9201-d6d5-417e-90b2-1983daba92f7",
   "metadata": {},
   "outputs": [],
   "source": [
    "scatter(1:length(acceptance_rate), acceptance_rate, xscale=:log10)\n",
    "xlabel!(\"Epoch\")\n",
    "ylabel!(\"Acceptance Rate\")"
   ]
  },
  {
   "cell_type": "code",
   "execution_count": null,
   "id": "47286d95-d440-4845-a6a4-e087728b8a52",
   "metadata": {},
   "outputs": [],
   "source": [
    "xx = LinRange(0, 4, 500);\n",
    "scatter([x_[1] for x_ in x], y, label=\"Sample Points\", legend=:right)\n",
    "plot!(xx, f.(xx), label = \"Truth\" )\n",
    "\n",
    "plot!(xx, [F([x_, 1]) for x_ in xx],label=\"Learned Model\")\n",
    "\n",
    "xlabel!(L\"x\")"
   ]
  },
  {
   "cell_type": "code",
   "execution_count": null,
   "id": "4faa0d47",
   "metadata": {},
   "outputs": [],
   "source": [
    "abs(F([0., 1])-1)<1e-2"
   ]
  },
  {
   "cell_type": "code",
   "execution_count": null,
   "id": "efb13c02-ecf8-45aa-9fbf-5972b109337b",
   "metadata": {},
   "outputs": [],
   "source": [
    "scatter(data.y,F.(data.x),label=\"Data\")\n",
    "xx = LinRange(0,1,100);\n",
    "plot!(xx, xx, ls=:dash, label=\"\")\n",
    "xlabel!(\"Truth\")\n",
    "ylabel!(\"Prediction\")"
   ]
  },
  {
   "cell_type": "code",
   "execution_count": null,
   "id": "a59022cd",
   "metadata": {},
   "outputs": [],
   "source": []
  }
 ],
 "metadata": {
  "kernelspec": {
   "display_name": "Julia 1.10.4",
   "language": "julia",
   "name": "julia-1.10"
  },
  "language_info": {
   "file_extension": ".jl",
   "mimetype": "application/julia",
   "name": "julia",
   "version": "1.10.4"
  }
 },
 "nbformat": 4,
 "nbformat_minor": 5
}
